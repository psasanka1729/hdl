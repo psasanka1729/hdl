{
 "cells": [
  {
   "cell_type": "markdown",
   "id": "5fca28c7",
   "metadata": {},
   "source": [
    "# Hydrogen depassivation lithography"
   ]
  },
  {
   "cell_type": "code",
   "execution_count": 2,
   "id": "14cf6a20",
   "metadata": {},
   "outputs": [],
   "source": [
    "Nx=1 \n",
    "Ny_max=2\n",
    "\n",
    "U11=1 # nearest neighbor potential in first layer\n",
    "U22=1 # nearest neighbor potential term in 2nd layer\n",
    "Usi=1# nearest neighbor potential betweeen hydrogen and silicon atom\n",
    "\n",
    "t22=1 # nearest nighbor hopping in 2nd layer\n",
    "t11=1 # nearest neighbor hopping in first layer\n",
    "t_si= # nearest neighor hopping between silicon and hydrogen atom\n",
    "t_b1=1 # loss/gain at boundary 1\n",
    "t_b2=2 # loss/gain at boundary 2\n",
    "t_b3=3 # loss/gain at boundary 3\n",
    "t_b4=4; # loss/gain at boundary 4"
   ]
  },
  {
   "cell_type": "code",
   "execution_count": 6,
   "id": "060ea762",
   "metadata": {},
   "outputs": [],
   "source": [
    "it=Iterators.product(ntuple(_ -> 0:1, 1+Nx*Ny_max*6)...);\n",
    "p=collect(it); # possible states with non conserving particle number"
   ]
  },
  {
   "cell_type": "code",
   "execution_count": 10,
   "id": "418555f0",
   "metadata": {},
   "outputs": [
    {
     "data": {
      "text/plain": [
       "(8192, 8192)"
      ]
     },
     "execution_count": 10,
     "metadata": {},
     "output_type": "execute_result"
    }
   ],
   "source": [
    "# Generating a matrix with zeros.\n",
    "H=zeros(2^(1+Nx*Ny_max*6),2^(1+Nx*Ny_max*6)); # 6 nearest neighbours.\n",
    "size(H)"
   ]
  },
  {
   "cell_type": "code",
   "execution_count": 14,
   "id": "6ced8699",
   "metadata": {},
   "outputs": [],
   "source": [
    "bonds = [\n",
    "        # first layer.\n",
    "        [1,2],[2,3],[3,4],[7,8],[8,9],[9,10],\n",
    "        # second layer.\n",
    "        [5,6],[11,12],\n",
    "        # first to second layer.\n",
    "        [2,5],[4,6],[8,11],[10,12],\n",
    "        # second to third layer.\n",
    "        [8,5],[10,6]\n",
    "        ];"
   ]
  },
  {
   "cell_type": "code",
   "execution_count": 23,
   "id": "e43ec8a7",
   "metadata": {},
   "outputs": [],
   "source": [
    "layer_1 = [];\n",
    "for Ny=1:Ny_max\n",
    "    for k=6*(Nx)*(Ny-1)+1:6*(Nx)*(Ny-1)+4*Nx-1\n",
    "        push!(layer_1,[k,k+1])\n",
    "    end\n",
    "end"
   ]
  },
  {
   "cell_type": "code",
   "execution_count": 32,
   "id": "b40420f4",
   "metadata": {},
   "outputs": [
    {
     "data": {
      "text/plain": [
       "2-element Vector{Any}:\n",
       " [5, 6]\n",
       " [11, 12]"
      ]
     },
     "execution_count": 32,
     "metadata": {},
     "output_type": "execute_result"
    }
   ],
   "source": [
    "layer_2 = [];\n",
    "for Ny=1:Ny_max\n",
    "    for k=6*Nx*(Ny-1)+4*Nx+1:2:6*Nx*(Ny-1)+4*Nx+2*Nx-1\n",
    "        push!(layer_2,[k,k+1])\n",
    "    end\n",
    "end\n",
    "layer_2"
   ]
  },
  {
   "cell_type": "code",
   "execution_count": 25,
   "id": "05c276b2",
   "metadata": {},
   "outputs": [
    {
     "data": {
      "text/plain": [
       "4-element Vector{Any}:\n",
       " [2, 5]\n",
       " [4, 6]\n",
       " [8, 11]\n",
       " [10, 12]"
      ]
     },
     "execution_count": 25,
     "metadata": {},
     "output_type": "execute_result"
    }
   ],
   "source": [
    "layer_1_2 = [];\n",
    "for Ny=1:Ny_max\n",
    "    for n=2:2:4*Nx\n",
    "        push!(layer_1_2,[Nx*6*(Ny-1)+n,Nx*6*(Ny-1)+4*Nx+Int(n/2)])\n",
    "        #println(Nx*6*(Ny-1)+n)\n",
    "        #println(Nx*6*(Ny-1)+4*Nx+Int(n/2))\n",
    "    end\n",
    "end\n",
    "layer_1_2"
   ]
  },
  {
   "cell_type": "code",
   "execution_count": 30,
   "id": "a41313bb",
   "metadata": {},
   "outputs": [
    {
     "data": {
      "text/plain": [
       "2-element Vector{Any}:\n",
       " [8, 5]\n",
       " [10, 6]"
      ]
     },
     "execution_count": 30,
     "metadata": {},
     "output_type": "execute_result"
    }
   ],
   "source": [
    "layer_2_3 = [];\n",
    "for Ny=2:Ny_max\n",
    "    for n1=2:2:4*Nx\n",
    "        push!(layer_2_3,[Nx*6*(Ny-1)+n1,Nx*6*(Ny-2)+4*Nx+Int(n1/2)])\n",
    "        #println(Nx*6*(Ny-1)+n1)\n",
    "        #println(Nx*6*(Ny-2)+4*Nx+Int(n1/2))\n",
    "    end\n",
    "end\n",
    "layer_2_3"
   ]
  },
  {
   "cell_type": "code",
   "execution_count": null,
   "id": "45ea416a",
   "metadata": {},
   "outputs": [],
   "source": []
  },
  {
   "cell_type": "markdown",
   "id": "36a9909e",
   "metadata": {},
   "source": [
    "## Imagine I'm given a list bonds = [[1,2],[2,3],etc]"
   ]
  },
  {
   "cell_type": "code",
   "execution_count": 11,
   "id": "40b5f4b5",
   "metadata": {},
   "outputs": [],
   "source": [
    "# Imagine I'm given a list bonds = [[1,2],[2,3],etc]\n",
    "\n",
    "for n=1:2^(1+Nx*Ny_max*6) # Loop over basis states\n",
    "\n",
    "    for j=1:length(bonds)\n",
    "        \n",
    "        site1=bonds[j][1]\n",
    "        site2=bonds[j][2]\n",
    "        \n",
    "        #=\n",
    "        Assuming NN interaction between any two layers are same (U11).\n",
    "        =#\n",
    "        \n",
    "        #= NN interaction term has no Hermitian conjugate=#\n",
    "        H[n,n]+=U11*p[n][site1]*p[n][site2] # NN Interaction term\n",
    "        \n",
    "        \n",
    "        #= NN hopping has Hermitian conjugate =#\n",
    "        if p[n][site1] == 1 && p[n][site2]==0 # NN hopping\n",
    "            q=collect(p[n])\n",
    "            q[site1]=0\n",
    "            q[site2]=1\n",
    "            \n",
    "            phase1=(-1)^(sum(p[n][site1:6*Nx*Ny_max+1]))\n",
    "            phase2=1\n",
    "            \n",
    "            if site2 < 6*Nx*Ny_max+1 \n",
    "                phase2=(-1)^(sum(p[n][site2:6*Nx*Ny_max+1]))\n",
    "            end\n",
    "            \n",
    "            for n1=1:2^(6*Nx*Ny_max+1)\n",
    "                if collect(p[n1])==q\n",
    "                    H[n,n1]+=t22*phase1*phase2\n",
    "                    H[n1,n]+=t22*phase1*phase2 # hermitian conjugate\n",
    "                end\n",
    "            end\n",
    "        end\n",
    "    end\n",
    "end"
   ]
  }
 ],
 "metadata": {
  "kernelspec": {
   "display_name": "Julia 1.8.1",
   "language": "julia",
   "name": "julia-1.8"
  },
  "language_info": {
   "file_extension": ".jl",
   "mimetype": "application/julia",
   "name": "julia",
   "version": "1.8.1"
  }
 },
 "nbformat": 4,
 "nbformat_minor": 5
}
